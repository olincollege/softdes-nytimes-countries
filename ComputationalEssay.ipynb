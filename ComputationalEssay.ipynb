{
 "cells": [
  {
   "cell_type": "code",
   "execution_count": 66,
   "metadata": {},
   "outputs": [
    {
     "name": "stdout",
     "output_type": "stream",
     "text": [
      "The autoreload extension is already loaded. To reload it, use:\n",
      "  %reload_ext autoreload\n"
     ]
    }
   ],
   "source": [
    "%load_ext autoreload\n",
    "%autoreload 2"
   ]
  },
  {
   "cell_type": "markdown",
   "metadata": {},
   "source": [
    "# <center>Determining the Correlation between Regime Changes and Media Coverage by Analyzing New York Times Headlines</center>\n",
    "<center>Alex Matsoukas and Lila Smith</center>"
   ]
  },
  {
   "cell_type": "markdown",
   "metadata": {},
   "source": [
    "## Introduction"
   ]
  },
  {
   "cell_type": "markdown",
   "metadata": {},
   "source": [
    "The purpose of our project is to examine the New York Times coverage of various world conflicts in which the US had been involved with, either militarily or diplomatically. The inspiration for this focus comes from the role of the New York Times in the Iraq War in 2003, which includes publicizing faulty information and swaying public perception in favor of US intervention.\n",
    "For this project, we focused on the following three countries and time periods\n",
    "- Chile (01/1960 to 01/1990)\n",
    "- Libya (01/2008 to 01/2013)\n",
    "- Bolivia (01/2018 to 01/2021)\n",
    "\n",
    "for the purpose of answering \"How does the quantity and quality of the New York Times media coverage vary around regime changes around the world?\"\n",
    "\n",
    "More specifically, this question can be broken down into three narrower fields of focus:\n",
    "- How frequently does the New York Times mention a country per month in the time period surrounding regime changes?\n",
    "- What words are most used in headlines about these countries during this time period?\n",
    "- How do the headlines' sentiment correlate with specific regimes?\n",
    "\n",
    "Our approach to providing an answer to these questions can be broken down into several stages including data collection, sentiment analysis, and effective communication of our findings. We utilized the New York Times Article Search API to obtain the data (in the form of article headlines), and Google Cloud's Natural Language API to analyze the text of the headlines. More detail on how exactly this was done will be provided in the Methodology section below. We also used Python's data visualization libraries such as Matplotlib, Numpy, and Wordcloud to create informative and effective graphics displaying the data and subsequent analysis."
   ]
  },
  {
   "cell_type": "markdown",
   "metadata": {},
   "source": [
    "## Methodology"
   ]
  },
  {
   "cell_type": "markdown",
   "metadata": {},
   "source": [
    "### Collecting and Storing Data"
   ]
  },
  {
   "cell_type": "markdown",
   "metadata": {},
   "source": [
    "The first step that we took towards answering our question was to obtain data from the [New York Times (NYT) Article Search API](https://developer.nytimes.com/docs/articlesearch-product/1/overview). The format of the requests is such that the base URI (`https://api.nytimes.com/svc/search/v2/articlesearch.json?q={query}&fq={filter}&api-key={yourkey}`) can be edited and altered to fit the desired search. We used this format as follows:\n",
    "\n",
    "`https://api.nytimes.com/svc/search/v2/articlesearch.json?q={search_term}&fq=source:(\\\"The New York Times\\\")&begin_date={begin_date}&end_date={end_date}&\"page={page}&api-key={api_key}`,\n",
    "\n",
    "using the target country in place of `{search_term}` and the start and end dates in format YYYYMMDD in place of `{begin_date}` and `{end_date}`.\n",
    "\n",
    "From the response provided by the API we focused on the hits, which is the number of articles in which the search term is mentioned, and the headlines, on which we conducted sentiment anaylsis. Because the time span of our focus on each country spans at least 3 years, we grouped the hits and headlines by month when saving data.\n",
    "\n",
    "An example of what the API returns for the country of Libya between the dates of January 1st and 31st, 20013 is shown in the code block below."
   ]
  },
  {
   "cell_type": "code",
   "execution_count": 64,
   "metadata": {},
   "outputs": [
    {
     "name": "stdout",
     "output_type": "stream",
     "text": [
      "Between 20130101 and 20130131, the term 'Libya' appeared in 84 articles. Ten headlines from this time period are:\n",
      "\n",
      "['Italy Closes Consulate in Benghazi After New Attack', 'Lone Suspect Held in Benghazi Attack Is Freed in Tunisia', 'Clinton Testifies About Benghazi', 'Site of Kidnapping in Algeria', \"Italy's Oil Leader Is Pursuing Its East African Bet\", 'Mali’s Culture War: The Fate of the Timbuktu Manuscripts', 'French Troops Fight Alongside Mali Army Against Islamist Occupiers', 'The Early Word: On the Front', 'Why We Must Help Save Mali', 'A Lifelong Passion Is Now Put to Practice in The Hague']\n"
     ]
    }
   ],
   "source": [
    "import os\n",
    "import pyjq\n",
    "from obtaining import request_articles, get_hits\n",
    "\n",
    "# Path to API Key not Stored in Repo\n",
    "PATH_ALEX = \"/home/softdes/Desktop/nytimes-api-key\"\n",
    "\n",
    "with open(os.path.abspath(PATH_ALEX), \"r\") as f:\n",
    "    api_key = f.readline().strip()\n",
    "    \n",
    "country_name = \"Libya\"\n",
    "start_date = \"20130101\" # January 1st, 2013\n",
    "end_date = \"20130131\" # January 31st, 2013\n",
    "\n",
    "API_response = request_articles(country_name, start_date, end_date, api_key)\n",
    "number_of_hits = get_hits(API_response)\n",
    "\n",
    "headlines = pyjq.all('.response .docs[] .headline .main', API_response.json())\n",
    "\n",
    "print(f\"Between {start_date} and {end_date}, the term '{country_name}' appeared in {number_of_hits} articles. Ten headlines from this time period are:\\n\")\n",
    "print(headlines)"
   ]
  },
  {
   "cell_type": "markdown",
   "metadata": {},
   "source": [
    "The data collected from the NYT API is stored in a csv file, where each country gets its own data file. We utilized the Python Pandas library to organize the information into dataframes and save the dataframes to csv files. An example of what our stored data looks like is show below:"
   ]
  },
  {
   "cell_type": "code",
   "execution_count": 65,
   "metadata": {},
   "outputs": [
    {
     "data": {
      "text/html": [
       "<div>\n",
       "<style scoped>\n",
       "    .dataframe tbody tr th:only-of-type {\n",
       "        vertical-align: middle;\n",
       "    }\n",
       "\n",
       "    .dataframe tbody tr th {\n",
       "        vertical-align: top;\n",
       "    }\n",
       "\n",
       "    .dataframe thead th {\n",
       "        text-align: right;\n",
       "    }\n",
       "</style>\n",
       "<table border=\"1\" class=\"dataframe\">\n",
       "  <thead>\n",
       "    <tr style=\"text-align: right;\">\n",
       "      <th></th>\n",
       "      <th>Country Name</th>\n",
       "      <th>MM-YYYY</th>\n",
       "      <th>Number of Hits</th>\n",
       "      <th>Sentiment Score (-1 to 1)</th>\n",
       "      <th>Magnitude</th>\n",
       "      <th>Month's Headlines</th>\n",
       "    </tr>\n",
       "  </thead>\n",
       "  <tbody>\n",
       "    <tr>\n",
       "      <th>0</th>\n",
       "      <td>Libya</td>\n",
       "      <td>01-2008</td>\n",
       "      <td>11</td>\n",
       "      <td>0.0</td>\n",
       "      <td>0.0</td>\n",
       "      <td>['Rehabilitating Libya', 'A New France in the ...</td>\n",
       "    </tr>\n",
       "    <tr>\n",
       "      <th>1</th>\n",
       "      <td>Libya</td>\n",
       "      <td>02-2008</td>\n",
       "      <td>11</td>\n",
       "      <td>-0.3</td>\n",
       "      <td>0.3</td>\n",
       "      <td>['Senior Qaeda Commander Is Killed by U.S. Mis...</td>\n",
       "    </tr>\n",
       "    <tr>\n",
       "      <th>2</th>\n",
       "      <td>Libya</td>\n",
       "      <td>03-2008</td>\n",
       "      <td>9</td>\n",
       "      <td>-0.1</td>\n",
       "      <td>0.1</td>\n",
       "      <td>['Papers Detail Complaints of Links to Treasur...</td>\n",
       "    </tr>\n",
       "    <tr>\n",
       "      <th>3</th>\n",
       "      <td>Libya</td>\n",
       "      <td>04-2008</td>\n",
       "      <td>15</td>\n",
       "      <td>0.0</td>\n",
       "      <td>0.0</td>\n",
       "      <td>['Libya Seeks Exemption for Its Debt to Victim...</td>\n",
       "    </tr>\n",
       "    <tr>\n",
       "      <th>4</th>\n",
       "      <td>Libya</td>\n",
       "      <td>05-2008</td>\n",
       "      <td>12</td>\n",
       "      <td>0.0</td>\n",
       "      <td>0.0</td>\n",
       "      <td>['Pakistani Nuclear Scientist Denies Selling S...</td>\n",
       "    </tr>\n",
       "  </tbody>\n",
       "</table>\n",
       "</div>"
      ],
      "text/plain": [
       "  Country Name  MM-YYYY  Number of Hits  Sentiment Score (-1 to 1)  Magnitude  \\\n",
       "0        Libya  01-2008              11                        0.0        0.0   \n",
       "1        Libya  02-2008              11                       -0.3        0.3   \n",
       "2        Libya  03-2008               9                       -0.1        0.1   \n",
       "3        Libya  04-2008              15                        0.0        0.0   \n",
       "4        Libya  05-2008              12                        0.0        0.0   \n",
       "\n",
       "                                   Month's Headlines  \n",
       "0  ['Rehabilitating Libya', 'A New France in the ...  \n",
       "1  ['Senior Qaeda Commander Is Killed by U.S. Mis...  \n",
       "2  ['Papers Detail Complaints of Links to Treasur...  \n",
       "3  ['Libya Seeks Exemption for Its Debt to Victim...  \n",
       "4  ['Pakistani Nuclear Scientist Denies Selling S...  "
      ]
     },
     "execution_count": 65,
     "metadata": {},
     "output_type": "execute_result"
    }
   ],
   "source": [
    "import pandas as pd\n",
    "filepath = f\"CountryData/{country_name}_data.csv\"\n",
    "dataframe = pd.read_csv(filepath)\n",
    "dataframe.head()"
   ]
  },
  {
   "cell_type": "markdown",
   "metadata": {},
   "source": [
    "More details about the `Sentiment Score (-1 to 1)` and `Magnitude` columns will be provided below."
   ]
  },
  {
   "cell_type": "markdown",
   "metadata": {},
   "source": [
    "### Analyzing Headlines"
   ]
  },
  {
   "cell_type": "markdown",
   "metadata": {},
   "source": [
    "After obtaining the raw data from NYT, we conducted sentiment analysis on the headlines using the [Google Cloud Natural Language API](https://cloud.google.com/natural-language). The sentiment analysis is done by posting plaintext headlines to the API, structured in the following way:\n",
    "\n",
    "`body = {\"document\": {\"type\": \"PLAIN_TEXT\", \"language\": \"en-us\", \"content\": text}, \"encodingType\": \"UTF32\"}`,\n",
    "\n",
    "where `\"PLAIN_TEXT\"` is replaced by the headlines that we want to analyze. Before sending the monthly headlines to the API, the information was processed to remove the quotation marks and commas around/between the headlines so that purely headline text was analyzed.\n",
    "\n",
    "An example of an analysis done by the Google Cloud API is shown below for the headlines for Libya in January 2008."
   ]
  },
  {
   "cell_type": "code",
   "execution_count": 71,
   "metadata": {},
   "outputs": [
    {
     "data": {
      "text/plain": [
       "{'documentSentiment': {'magnitude': 0, 'score': 0},\n",
       " 'language': 'en-US',\n",
       " 'sentences': [{'text': {'content': 'Rehabilitating Libya A New France in the New Middle East: Forget Glory Waving Goodbye to Hegemony Demand More From Libya After Veto, House Passes a Revised Military Policy Measure 3 Convicted Who Led Charity Tied to Militants Fiat King Holds Court in Rome Red Bulls Coach Heads South to Find Players Sarkozy Says Press Is Free to Ignore His Personal Life Unwilling New Frontier for Migrants: 3 Greek Isles Nuclear Scientists',\n",
       "    'beginOffset': 0},\n",
       "   'sentiment': {'magnitude': 0, 'score': 0}}]}"
      ]
     },
     "execution_count": 71,
     "metadata": {},
     "output_type": "execute_result"
    }
   ],
   "source": [
    "from processing import headline_list_to_string, request_sentiment\n",
    "plaintext = headline_list_to_string(country_name, \"200801\")\n",
    "analysis = request_sentiment(plaintext)\n",
    "analysis.json()"
   ]
  },
  {
   "cell_type": "markdown",
   "metadata": {},
   "source": [
    "Based on this analysis, the both the overall sentiment and the overall magnitude for this month are 0. The sentiment score ranges from -1 to 1, where -1 indicates that the text contained a very negative connotation and 1 indicates that the text contained a very positive connotation. In this case, a sentiment score of 0 implies that the tone of the headlines was, on average, neutral. The magnitude score indicates the strength of emotion conveyed in the text. The magnitude ranges from 0 and up, with a larger score indicating stronger emotionality (either positive or negative emotion). We used the Pandas library again to read the existing csv data files and update the dataframes for each country."
   ]
  },
  {
   "cell_type": "markdown",
   "metadata": {},
   "source": [
    "### Answering the Questions"
   ]
  },
  {
   "cell_type": "markdown",
   "metadata": {},
   "source": [
    "The data that we've collected on NYT media coverage for Chile, Libya, and Bolivia takes the form of hits, headlines, and sentiment analysis per month around the time period of a regime change and/or US military involvement in these countries. The number of hits can be used to gauge media attention, under the assumption that more hits means more media coverage by the NYT. We decided to visualize this data using a scatterplot of hits vs. time in order to get a sense of when each country was mentioned the most; our hypothesis that there should be spikes in hits around notable events can be verified with this plot. Because the data is already stored in an organized fashion, we used the Matplotlib library to create the scatterplot of the `Number of Hits` column vs. the `MM-YYYY` column from the csv file for each country.\n",
    "\n",
    "To determine the kind of language that was most frequently used by the NYT to describe each country, we used Python's Wordcloud library to create a qualitative display of most common words. The more prominent words in the wordcloud should be a good indicator of how the NYT is describing the country around and during military/politcal conflict. We have the capability to create wordclouds for single, isolated months, which allows us to visualize headlines directly corresponding to large hit values.\n",
    "\n",
    "In order to get a more quantitative understanding of the headline language, our third visualization of the data is a bubblechart that plots the sentiment score vs. time, with the size of the bubble corresponding to the number of hits. Once again, this data is plotted using Matplotlib's scatter function to plot the `Sentiment Score (-1 to 1)` column against the `MM-YYYY` column of each csv, controlling the size with the `Number of Hits`. This provides a comprehensive visual of both media attention and sentiment, allowing us to see big-picture trends that the wordcloud or the scatterplot can't do individually."
   ]
  },
  {
   "cell_type": "markdown",
   "metadata": {},
   "source": [
    "## Results"
   ]
  },
  {
   "cell_type": "code",
   "execution_count": null,
   "metadata": {},
   "outputs": [],
   "source": []
  },
  {
   "cell_type": "markdown",
   "metadata": {},
   "source": [
    "## Conclusion"
   ]
  },
  {
   "cell_type": "code",
   "execution_count": null,
   "metadata": {},
   "outputs": [],
   "source": []
  }
 ],
 "metadata": {
  "kernelspec": {
   "display_name": "Python 3",
   "language": "python",
   "name": "python3"
  },
  "language_info": {
   "codemirror_mode": {
    "name": "ipython",
    "version": 3
   },
   "file_extension": ".py",
   "mimetype": "text/x-python",
   "name": "python",
   "nbconvert_exporter": "python",
   "pygments_lexer": "ipython3",
   "version": "3.8.5"
  }
 },
 "nbformat": 4,
 "nbformat_minor": 4
}
