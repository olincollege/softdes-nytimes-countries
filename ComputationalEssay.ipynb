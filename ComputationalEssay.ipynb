{
 "cells": [
  {
   "cell_type": "code",
   "execution_count": 1,
   "metadata": {},
   "outputs": [],
   "source": [
    "%load_ext autoreload\n",
    "%autoreload 2"
   ]
  },
  {
   "cell_type": "markdown",
   "metadata": {},
   "source": [
    "# <center>Determining the Correlation between Regime Changes and Media Coverage by Analyzing New York Times Headlines</center>\n",
    "<center>Alex Matsoukas and Lila Smith</center>"
   ]
  },
  {
   "cell_type": "markdown",
   "metadata": {},
   "source": [
    "## Question: How does New York Time media coverage's quantity and sentiment vary around regime changes? "
   ]
  },
  {
   "source": [
    "Much has been said about the New York Times' role in the Iraq War.\n",
    "We wanted to look at other conflicts (specifically regime changes) that the US has been or allegedly been involved with, both militarly (NATO in Libya) and diplomaticly (OAS in Bolivia).\n",
    "\n",
    "### Subquestions:\n",
    "\n",
    "- How frequently does the New York Times mention a country per month in the time period surrounding regime changes?\n",
    "- What words are most used in headlines about these countries during this time period?\n",
    "- How does the headlines’ sentiment correlate with specific regimes?\n",
    "\n"
   ],
   "cell_type": "markdown",
   "metadata": {}
  },
  {
   "source": [
    "## Methodology"
   ],
   "cell_type": "code",
   "metadata": {},
   "execution_count": null,
   "outputs": []
  },
  {
   "cell_type": "code",
   "execution_count": null,
   "metadata": {},
   "outputs": [],
   "source": []
  },
  {
   "cell_type": "markdown",
   "metadata": {},
   "source": [
    "## Results"
   ]
  },
  {
   "cell_type": "code",
   "execution_count": null,
   "metadata": {},
   "outputs": [],
   "source": []
  },
  {
   "cell_type": "markdown",
   "metadata": {},
   "source": [
    "## Conclusion"
   ]
  },
  {
   "cell_type": "code",
   "execution_count": null,
   "metadata": {},
   "outputs": [],
   "source": []
  }
 ],
 "metadata": {
  "kernelspec": {
   "display_name": "Python 3",
   "language": "python",
   "name": "python3"
  },
  "language_info": {
   "codemirror_mode": {
    "name": "ipython",
    "version": 3
   },
   "file_extension": ".py",
   "mimetype": "text/x-python",
   "name": "python",
   "nbconvert_exporter": "python",
   "pygments_lexer": "ipython3",
   "version": "3.8.5"
  }
 },
 "nbformat": 4,
 "nbformat_minor": 4
}