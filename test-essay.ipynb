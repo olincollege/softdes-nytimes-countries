{
 "cells": [
  {
   "cell_type": "code",
   "execution_count": 1,
   "metadata": {},
   "outputs": [],
   "source": [
    "%load_ext autoreload\n",
    "%autoreload 2"
   ]
  },
  {
   "cell_type": "code",
   "execution_count": null,
   "metadata": {},
   "outputs": [],
   "source": [
    "import data_processing_helpers\n",
    "import data_processing"
   ]
  },
  {
   "cell_type": "code",
   "execution_count": 6,
   "metadata": {
    "scrolled": true
   },
   "outputs": [
    {
     "ename": "AttributeError",
     "evalue": "module 'data_processing_helpers' has no attribute 'write_hits_to_file'",
     "output_type": "error",
     "traceback": [
      "\u001b[0;31m---------------------------------------------------------------------------\u001b[0m",
      "\u001b[0;31mAttributeError\u001b[0m                            Traceback (most recent call last)",
      "\u001b[0;32m<ipython-input-6-d112d0bfc7e6>\u001b[0m in \u001b[0;36m<module>\u001b[0;34m\u001b[0m\n\u001b[1;32m     23\u001b[0m \u001b[0mend_month\u001b[0m \u001b[0;34m=\u001b[0m \u001b[0;34m\"200901\"\u001b[0m\u001b[0;34m\u001b[0m\u001b[0;34m\u001b[0m\u001b[0m\n\u001b[1;32m     24\u001b[0m \u001b[0;34m\u001b[0m\u001b[0m\n\u001b[0;32m---> 25\u001b[0;31m \u001b[0mdata_processing_helpers\u001b[0m\u001b[0;34m.\u001b[0m\u001b[0mwrite_hits_to_file\u001b[0m\u001b[0;34m(\u001b[0m\u001b[0mkeyword\u001b[0m\u001b[0;34m,\u001b[0m \u001b[0mbegin_month\u001b[0m\u001b[0;34m,\u001b[0m \u001b[0mend_month\u001b[0m\u001b[0;34m,\u001b[0m \u001b[0mapi_key\u001b[0m\u001b[0;34m)\u001b[0m\u001b[0;34m\u001b[0m\u001b[0;34m\u001b[0m\u001b[0m\n\u001b[0m",
      "\u001b[0;31mAttributeError\u001b[0m: module 'data_processing_helpers' has no attribute 'write_hits_to_file'"
     ]
    }
   ],
   "source": [
    "api_key_lila = \"ik8zllqx40ZuMDMG0Ph0JrRvy30QssJ4\"\n",
    "\n",
    "PATH_ALEX = \"/home/softdes/Desktop/nytimes-api-key\"\n",
    "\n",
    "with open(os.path.abspath(PATH_ALEX), \"r\") as f:\n",
    "    api_key = f.readline()\n",
    "\n",
    "keyword = \"Libya\"\n",
    "#YYYYMMDD\n",
    "begin_date = \"20100101\"\n",
    "end_date = \"20140101\"\n",
    "\n",
    "#YYYYMM\n",
    "begin_month = \"200901\"\n",
    "end_month = \"200901\"\n"
   ]
  },
  {
   "cell_type": "code",
   "execution_count": 38,
   "metadata": {},
   "outputs": [],
   "source": [
    "import test_google_cloud\n",
    "a = test_google_cloud.request_sentiment(\"only returns first 10 even though each one is a separate api call\")"
   ]
  },
  {
   "cell_type": "code",
   "execution_count": 20,
   "metadata": {},
   "outputs": [
    {
     "data": {
      "text/plain": [
       "[['Chile',\n",
       "  '197811',\n",
       "  38,\n",
       "  ['Pinochet Is Planning To Circumvent Curbs On Chilean Exports',\n",
       "   'Citing Repressive Policies in Chile, A.F.L.‐C.I.O. May Join in Boycott',\n",
       "   'Chile Under Mounting Pressure From Church on Human Rights',\n",
       "   'Boycotts Set in 3 Latin Countries',\n",
       "   'World News Briefs',\n",
       "   'Catholic Church Last Week Asked for an Inquiry on Prisoners',\n",
       "   'Letters',\n",
       "   \"Closed Hearings Sought At I.T.T. Official's Trial\",\n",
       "   'Argentina Accepts Mediation for Southern Islands',\n",
       "   'Raid From Costa Rica  Reported by Nicaragua']]]"
      ]
     },
     "execution_count": 20,
     "metadata": {},
     "output_type": "execute_result"
    }
   ],
   "source": [
    "data_processing.write_hits_and_headlines_to_file(\"Chile\", \"197811\", \"197811\", api_key)\n",
    "\n"
   ]
  },
  {
   "cell_type": "code",
   "execution_count": 17,
   "metadata": {},
   "outputs": [],
   "source": [
    "data_processing_helpers.reset_data_entries(\"Chile\")"
   ]
  }
 ],
 "metadata": {
  "kernelspec": {
   "display_name": "Python 3",
   "language": "python",
   "name": "python3"
  },
  "language_info": {
   "codemirror_mode": {
    "name": "ipython",
    "version": 3
   },
   "file_extension": ".py",
   "mimetype": "text/x-python",
   "name": "python",
   "nbconvert_exporter": "python",
   "pygments_lexer": "ipython3",
   "version": "3.8.5"
  }
 },
 "nbformat": 4,
 "nbformat_minor": 4
}
