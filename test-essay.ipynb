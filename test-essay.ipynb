{
 "cells": [
  {
   "cell_type": "code",
   "execution_count": 1,
   "metadata": {},
   "outputs": [],
   "source": [
    "%load_ext autoreload\n",
    "%autoreload 2"
   ]
  },
  {
   "cell_type": "code",
   "execution_count": 3,
   "metadata": {
    "scrolled": true
   },
   "outputs": [
    {
     "data": {
      "text/plain": [
       "[['Libya', '200901', 12],\n",
       " ['Libya', '200902', 9],\n",
       " ['Libya', '200903', 23],\n",
       " ['Libya', '200904', 14],\n",
       " ['Libya', '200905', 14],\n",
       " ['Libya', '200906', 13],\n",
       " ['Libya', '200907', 8],\n",
       " ['Libya', '200908', 32],\n",
       " ['Libya', '200909', 66],\n",
       " ['Libya', '200910', 10],\n",
       " ['Libya', '200911', 8],\n",
       " ['Libya', '200912', 13],\n",
       " ['Libya', '201001', 13],\n",
       " ['Libya', '201002', 8],\n",
       " ['Libya', '201003', 15],\n",
       " ['Libya', '201004', 5],\n",
       " ['Libya', '201005', 6],\n",
       " ['Libya', '201006', 8],\n",
       " ['Libya', '201007', 26],\n",
       " ['Libya', '201008', 12],\n",
       " ['Libya', '201009', 11],\n",
       " ['Libya', '201010', 16],\n",
       " ['Libya', '201011', 12],\n",
       " ['Libya', '201012', 20],\n",
       " ['Libya', '201101', 20],\n",
       " ['Libya', '201102', 194],\n",
       " ['Libya', '201103', 586],\n",
       " ['Libya', '201104', 343],\n",
       " ['Libya', '201105', 278],\n",
       " ['Libya', '201106', 254],\n",
       " ['Libya', '201107', 134],\n",
       " ['Libya', '201108', 264],\n",
       " ['Libya', '201109', 240],\n",
       " ['Libya', '201110', 215],\n",
       " ['Libya', '201111', 118],\n",
       " ['Libya', '201112', 81],\n",
       " ['Libya', '201201', 62],\n",
       " ['Libya', '201202', 104],\n",
       " ['Libya', '201203', 69],\n",
       " ['Libya', '201204', 54],\n",
       " ['Libya', '201205', 50],\n",
       " ['Libya', '201206', 57],\n",
       " ['Libya', '201207', 60],\n",
       " ['Libya', '201208', 41],\n",
       " ['Libya', '201209', 241],\n",
       " ['Libya', '201210', 182],\n",
       " ['Libya', '201211', 104],\n",
       " ['Libya', '201212', 71],\n",
       " ['Libya', '201301', 84]]"
      ]
     },
     "execution_count": 3,
     "metadata": {},
     "output_type": "execute_result"
    }
   ],
   "source": [
    "import requests\n",
    "import json\n",
    "import pyjq\n",
    "import data_processing_helpers\n",
    "\n",
    "api_key_lila = \"ik8zllqx40ZuMDMG0Ph0JrRvy30QssJ4\"\n",
    "api_key_alex = 'VovfA1abk6Nmz5jOSmes60HrFXBGfCAm'\n",
    "\n",
    "keyword = \"Libya\"\n",
    "#YYYYMMDD\n",
    "begin_date = \"20100101\"\n",
    "end_date = \"20140101\"\n",
    "\n",
    "#YYYYMM\n",
    "begin_month = \"200901\"\n",
    "end_month = \"201301\"\n",
    "\n",
    "#only returns first 10 even though each one is a separate api call\n",
    "data_processing_helpers.write_hits_to_file(keyword, begin_month, end_month, api_key_alex)"
   ]
  },
  {
   "cell_type": "code",
   "execution_count": null,
   "metadata": {},
   "outputs": [],
   "source": []
  }
 ],
 "metadata": {
  "kernelspec": {
   "display_name": "Python 3",
   "language": "python",
   "name": "python3"
  },
  "language_info": {
   "codemirror_mode": {
    "name": "ipython",
    "version": 3
   },
   "file_extension": ".py",
   "mimetype": "text/x-python",
   "name": "python",
   "nbconvert_exporter": "python",
   "pygments_lexer": "ipython3",
   "version": "3.8.5"
  }
 },
 "nbformat": 4,
 "nbformat_minor": 4
}
