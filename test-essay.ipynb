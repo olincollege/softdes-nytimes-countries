{
 "cells": [
  {
   "cell_type": "code",
   "execution_count": 10,
   "metadata": {},
   "outputs": [
    {
     "output_type": "stream",
     "name": "stdout",
     "text": [
      "The autoreload extension is already loaded. To reload it, use:\n  %reload_ext autoreload\n"
     ]
    }
   ],
   "source": [
    "%load_ext autoreload\n",
    "%autoreload 2"
   ]
  },
  {
   "cell_type": "code",
   "execution_count": 3,
   "metadata": {
    "scrolled": true
   },
   "outputs": [],
   "source": [
    "import requests\n",
    "import json\n",
    "import pyjq\n",
    "import data_processing_helpers\n",
    "import data_processing\n",
    "import pandas as pd\n",
    "\n",
    "api_key_lila = \"ik8zllqx40ZuMDMG0Ph0JrRvy30QssJ4\"\n",
    "api_key_alex = 'VovfA1abk6Nmz5jOSmes60HrFXBGfCAm'\n",
    "\n",
    "keyword = \"Libya\"\n",
    "#YYYYMMDD\n",
    "begin_date = \"20100101\"\n",
    "end_date = \"20140101\"\n",
    "\n",
    "#YYYYMM\n",
    "begin_month = \"200901\"\n",
    "end_month = \"201301\"\n",
    "\n",
    "#only returns first 10 even though each one is a separate api call\n",
    "#data_processing_helpers.write_hits_to_file(keyword, begin_month, end_month, api_key_alex)"
   ]
  },
  {
   "cell_type": "code",
   "execution_count": 20,
   "metadata": {},
   "outputs": [
    {
     "output_type": "execute_result",
     "data": {
      "text/plain": [
       "<Response [404]>"
      ]
     },
     "metadata": {},
     "execution_count": 20
    }
   ],
   "source": [
    "import test_google_cloud\n",
    "#Gives error 404 because wrong format of input (the json called document)?\n",
    "test_google_cloud.request_sentiment(\"only returns first 10 even though each one is a separate api call\")"
   ]
  }
 ],
 "metadata": {
  "kernelspec": {
   "display_name": "Python 3",
   "language": "python",
   "name": "python3"
  },
  "language_info": {
   "codemirror_mode": {
    "name": "ipython",
    "version": 3
   },
   "file_extension": ".py",
   "mimetype": "text/x-python",
   "name": "python",
   "nbconvert_exporter": "python",
   "pygments_lexer": "ipython3",
   "version": "3.8.5-final"
  }
 },
 "nbformat": 4,
 "nbformat_minor": 4
}