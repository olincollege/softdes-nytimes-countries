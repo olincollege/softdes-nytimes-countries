{
 "cells": [
  {
   "cell_type": "code",
   "execution_count": 2,
   "metadata": {},
   "outputs": [
    {
     "name": "stdout",
     "output_type": "stream",
     "text": [
      "The autoreload extension is already loaded. To reload it, use:\n",
      "  %reload_ext autoreload\n"
     ]
    }
   ],
   "source": [
    "%load_ext autoreload\n",
    "%autoreload 2"
   ]
  },
  {
   "cell_type": "code",
   "execution_count": 28,
   "metadata": {
    "scrolled": true
   },
   "outputs": [
    {
     "data": {
      "text/plain": [
       "[['Bolivia', '201901', 12],\n",
       " ['Bolivia', '201902', 8],\n",
       " ['Bolivia', '201903', 9],\n",
       " ['Bolivia', '201904', 14],\n",
       " ['Bolivia', '201905', 18],\n",
       " ['Bolivia', '201906', 5],\n",
       " ['Bolivia', '201907', 9],\n",
       " ['Bolivia', '201908', 20],\n",
       " ['Bolivia', '201909', 7],\n",
       " ['Bolivia', '201910', 15],\n",
       " ['Bolivia', '201911', 51],\n",
       " ['Bolivia', '201912', 13],\n",
       " ['Bolivia', '202001', 15],\n",
       " ['Bolivia', '202002', 8],\n",
       " ['Bolivia', '202003', 6],\n",
       " ['Bolivia', '202004', 8],\n",
       " ['Bolivia', '202005', 4],\n",
       " ['Bolivia', '202006', 12],\n",
       " ['Bolivia', '202007', 11],\n",
       " ['Bolivia', '202008', 9],\n",
       " ['Bolivia', '202009', 11],\n",
       " ['Bolivia', '202010', 19],\n",
       " ['Bolivia', '202011', 6],\n",
       " ['Bolivia', '202012', 5],\n",
       " ['Bolivia', '202101', 10]]"
      ]
     },
     "execution_count": 28,
     "metadata": {},
     "output_type": "execute_result"
    }
   ],
   "source": [
    "import requests\n",
    "import json\n",
    "import pyjq\n",
    "import data_processing_helpers\n",
    "\n",
    "api_key_lila = \"ik8zllqx40ZuMDMG0Ph0JrRvy30QssJ4\"\n",
    "\n",
    "keyword = \"Bolivia\"\n",
    "#YYYYMMDD\n",
    "begin_date = \"20100101\"\n",
    "end_date = \"20140101\"\n",
    "\n",
    "#YYYYMM\n",
    "begin_month = \"201901\"\n",
    "end_month = \"202101\"\n",
    "\n",
    "#only returns first 10 even though each one is a separate api call\n",
    "#data_processing_helpers.monthly_hits(keyword, begin_month, end_month, api_key_lila)\n",
    "#data_processing_helpers.request_articles(keyword, begin_month, end_month, api_key_lila).json()\n",
    "data_processing_helpers.write_hits_to_file(keyword, begin_month, end_month, api_key_lila)"
   ]
  },
  {
   "cell_type": "code",
   "execution_count": null,
   "metadata": {},
   "outputs": [],
   "source": []
  }
 ],
 "metadata": {
  "kernelspec": {
   "display_name": "Python 3",
   "language": "python",
   "name": "python3"
  },
  "language_info": {
   "codemirror_mode": {
    "name": "ipython",
    "version": 3
   },
   "file_extension": ".py",
   "mimetype": "text/x-python",
   "name": "python",
   "nbconvert_exporter": "python",
   "pygments_lexer": "ipython3",
   "version": "3.8.5"
  }
 },
 "nbformat": 4,
 "nbformat_minor": 4
}
