{
 "cells": [
  {
   "cell_type": "code",
   "execution_count": 1,
   "metadata": {},
   "outputs": [],
   "source": [
    "%load_ext autoreload\n",
    "%autoreload 2"
   ]
  },
  {
   "cell_type": "code",
   "execution_count": 3,
   "metadata": {
    "scrolled": true
   },
   "outputs": [],
   "source": [
    "import requests\n",
    "import json\n",
    "import pyjq\n",
    "import data_processing_helpers\n",
    "\n",
    "api_key_lila = \"ik8zllqx40ZuMDMG0Ph0JrRvy30QssJ4\"\n",
    "api_key_alex = 'VovfA1abk6Nmz5jOSmes60HrFXBGfCAm'\n",
    "\n",
    "keyword = \"Libya\"\n",
    "#YYYYMMDD\n",
    "begin_date = \"20100101\"\n",
    "end_date = \"20140101\"\n",
    "\n",
    "#YYYYMM\n",
    "begin_month = \"200901\"\n",
    "end_month = \"201301\"\n",
    "\n",
    "#only returns first 10 even though each one is a separate api call\n",
    "#data_processing_helpers.write_hits_to_file(keyword, begin_month, end_month, api_key_alex)"
   ]
  },
  {
   "cell_type": "code",
   "execution_count": 5,
   "metadata": {},
   "outputs": [
    {
     "data": {
      "text/plain": [
       "[['As Violence Grips Bolivia, Congress Moves Toward New Elections',\n",
       "  'How an Unknown Female Senator Came to Replace the Bolivian President Evo Morales',\n",
       "  'Ethnic Rifts in Bolivia Burst Into View With Fall of Evo Morales',\n",
       "  'In Bolivia, Interim Leader Sets Conservative, Religious Tone',\n",
       "  'Evo Morales Is Gone. Bolivia’s Problems Aren’t.',\n",
       "  'Bolivia’s Interim Leader Pledges to ‘Reconstruct Democracy’',\n",
       "  'Evo Morales of Bolivia Accepts Asylum in Mexico',\n",
       "  'Bolivian Leader Evo Morales Steps Down',\n",
       "  'From Bolivia, Sad Lessons on How to Fix Semi-Democracies',\n",
       "  '‘I Assume the Presidency’: Bolivia Lawmaker Declares Herself Leader',\n",
       "  'Evo Morales Raises a Fist, but Knows His Presidency is Over',\n",
       "  'Bolivian Leader Clings to Power as Police Join Protesters',\n",
       "  'Bolivian Mayor Assaulted by Protesters in Postelection Mayhem',\n",
       "  'Military Calls on President to Step Down After Election Dispute in Bolivia',\n",
       "  'Bolivia Crisis Shows the Blurry Line Between Coup and Uprising',\n",
       "  '‘Evo Morales Is Like a Father to Us’',\n",
       "  'The Coup Temptation in Latin America',\n",
       "  '‘This Will Be Forever’: How the Ambitions of Evo Morales Contributed to His Fall',\n",
       "  'Your Monday Briefing: Bolivia, Spain, Premier League',\n",
       "  'Evo Morales and Bolivia: What We Know About the President’s Resignation',\n",
       "  'Mexico, a Haven for Leftists in Exile, Provides Evo Morales With a Landing Spot',\n",
       "  'Latin Americans Are Clamoring for Equality — and Democracy',\n",
       "  'Latin Americans Are Furious',\n",
       "  'The Revolt Against Populism',\n",
       "  'Hong Kong, Cold Weather, Veterans Day: Your Monday Briefing',\n",
       "  'Center-Right Candidate Wins in Uruguay, Ending 15 Years of Liberal Rule',\n",
       "  'News Quiz: Impeachment Hearing, Hong Kong, Australian Wildfires',\n",
       "  'The World Burns All Year. Are There Enough Planes to Douse the Flames?',\n",
       "  'Impeachment, Santa Clarita, Leonids: Your Weekend Briefing',\n",
       "  'Your Tuesday Briefing: Auto Tariffs, Russia-Brexit, Medical Marijuana',\n",
       "  'Impeachment, Deval Patrick, Venice Flooding: Your Thursday Briefing',\n",
       "  'Hong Kong, Impeachment Hearings, Nissan: Your Wednesday Briefing',\n",
       "  'Weekly News Quiz for Students: Elections, Vaping, Gaming Regulations',\n",
       "  'Lula’s Free. Now What?',\n",
       "  'Veterans Day, E.P.A., Hong Kong: Your Monday Evening Briefing',\n",
       "  'Arctic Blast, Supreme Court, Disney Plus: Your Tuesday Evening Briefing',\n",
       "  'Impeachment, Hong Kong, Tom Hanks: Your Wednesday Evening Briefing',\n",
       "  '‘Our Nation Is Being Torn Apart. Truth Is Questioned.’',\n",
       "  'Hong Kong, Impeachment Hearings, Tom Hanks: Your Thursday Briefing',\n",
       "  '‘Your Face Is Burning.’ How It Feels to Photograph Australia’s Fires',\n",
       "  '‘Your Face Is Burning.’ How It Feels to Photograph Australia’s Fires',\n",
       "  'Israel, Jimmy Carter, Disney Plus: Your Tuesday Briefing',\n",
       "  'Donald Trump, Michael Bloomberg, Mexico: Your Friday Briefing',\n",
       "  'Impeachment Hearings, Ukraine, Denmark: Your Thursday Briefing',\n",
       "  'Impeachment, Elizabeth Warren, ISIS: Your Friday Briefing',\n",
       "  'Gordon Sondland, Syracuse University, Grammys: Your Wednesday Briefing',\n",
       "  'Impeachment Hearing, Plague, Colin Kaepernick: Your Wednesday Briefing',\n",
       "  'Your Monday Briefing',\n",
       "  'World Energy Report, Impeachment Hearings, Turkey: Your Wednesday Briefing',\n",
       "  'Stalking the Endangered Wax Palm',\n",
       "  '100 Notable Books of 2019']]"
      ]
     },
     "execution_count": 5,
     "metadata": {},
     "output_type": "execute_result"
    }
   ],
   "source": [
    "data_processing_helpers.collect_monthly_headlines('Bolivia', '201911', '201911', api_key_alex)"
   ]
  }
 ],
 "metadata": {
  "kernelspec": {
   "display_name": "Python 3",
   "language": "python",
   "name": "python3"
  },
  "language_info": {
   "codemirror_mode": {
    "name": "ipython",
    "version": 3
   },
   "file_extension": ".py",
   "mimetype": "text/x-python",
   "name": "python",
   "nbconvert_exporter": "python",
   "pygments_lexer": "ipython3",
   "version": "3.8.5"
  }
 },
 "nbformat": 4,
 "nbformat_minor": 4
}
