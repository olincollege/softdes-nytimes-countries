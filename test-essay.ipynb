{
 "cells": [
  {
   "cell_type": "code",
   "execution_count": 1,
   "metadata": {},
   "outputs": [],
   "source": [
    "%load_ext autoreload\n",
    "%autoreload 2"
   ]
  },
  {
   "cell_type": "code",
   "execution_count": 8,
   "metadata": {
    "scrolled": true
   },
   "outputs": [
    {
     "data": {
      "text/plain": [
       "[['senate', '201302', 400],\n",
       " ['senate', '201303', 442],\n",
       " ['senate', '201304', 457],\n",
       " ['senate', '201305', 433],\n",
       " ['senate', '201306', 423],\n",
       " ['senate', '201307', 352],\n",
       " ['senate', '201308', 257],\n",
       " ['senate', '201309', 342],\n",
       " ['senate', '201310', 436],\n",
       " ['senate', '201311', 306],\n",
       " ['senate', '201312', 253],\n",
       " ['senate', '201401', 321],\n",
       " ['senate', '201402', 289]]"
      ]
     },
     "execution_count": 8,
     "metadata": {},
     "output_type": "execute_result"
    }
   ],
   "source": [
    "import requests\n",
    "import json\n",
    "import pyjq\n",
    "from data_processing_helpers import request_articles, get_hits, monthly_hits\n",
    "\n",
    "api_key_lila = \"ik8zllqx40ZuMDMG0Ph0JrRvy30QssJ4\"\n",
    "\n",
    "keyword = \"senate\"\n",
    "#YYYYMMDD\n",
    "begin_date = \"20100101\"\n",
    "end_date = \"20140101\"\n",
    "\n",
    "#YYYYMM\n",
    "begin_month = \"201302\"\n",
    "end_month = \"201402\"\n",
    "\n",
    "#only returns first 10 even though each one is a separate api call\n",
    "monthly_hits(keyword, begin_month, end_month, api_key_lila)"
   ]
  },
  {
   "cell_type": "code",
   "execution_count": null,
   "metadata": {},
   "outputs": [],
   "source": []
  }
 ],
 "metadata": {
  "kernelspec": {
   "display_name": "Python 3",
   "language": "python",
   "name": "python3"
  },
  "language_info": {
   "codemirror_mode": {
    "name": "ipython",
    "version": 3
   },
   "file_extension": ".py",
   "mimetype": "text/x-python",
   "name": "python",
   "nbconvert_exporter": "python",
   "pygments_lexer": "ipython3",
   "version": "3.8.5"
  }
 },
 "nbformat": 4,
 "nbformat_minor": 4
}
