{
 "cells": [
  {
   "cell_type": "code",
   "execution_count": 1,
   "metadata": {},
   "outputs": [],
   "source": [
    "%load_ext autoreload\n",
    "%autoreload 2"
   ]
  },
  {
   "cell_type": "code",
   "execution_count": 3,
   "metadata": {
    "scrolled": true
   },
   "outputs": [],
   "source": [
    "import requests\n",
    "import json\n",
    "import pyjq\n",
    "import data_processing_helpers\n",
    "import data_processing\n",
    "\n",
    "api_key_lila = \"ik8zllqx40ZuMDMG0Ph0JrRvy30QssJ4\"\n",
    "api_key_alex = 'VovfA1abk6Nmz5jOSmes60HrFXBGfCAm'\n",
    "\n",
    "keyword = \"Libya\"\n",
    "#YYYYMMDD\n",
    "begin_date = \"20100101\"\n",
    "end_date = \"20140101\"\n",
    "\n",
    "#YYYYMM\n",
    "begin_month = \"200901\"\n",
    "end_month = \"201301\"\n",
    "\n",
    "#only returns first 10 even though each one is a separate api call\n",
    "#data_processing_helpers.write_hits_to_file(keyword, begin_month, end_month, api_key_alex)"
   ]
  },
  {
   "cell_type": "code",
   "execution_count": 6,
   "metadata": {},
   "outputs": [],
   "source": [
    "results = data_processing.collect_headlines_and_hits('Bolivia', '201902', '201903', api_key_alex)"
   ]
  },
  {
   "cell_type": "code",
   "execution_count": 17,
   "metadata": {},
   "outputs": [
    {
     "data": {
      "text/plain": [
       "[['Bolivia',\n",
       "  '201902',\n",
       "  8,\n",
       "  ['Austin Museum Expands Latin American Collection',\n",
       "   'The U.S. Can Help Solve the Venezuelan Crisis by Not Being a Bully',\n",
       "   'The Most Talked About Non-Topic at the Vatican? Homosexuality',\n",
       "   'Pope Opens Meeting on Clerical Sex Abuse Under Great Pressure From Victims for Change',\n",
       "   'A Pop Culture Shock After the Trip of a Lifetime',\n",
       "   'Why Can’t Rich People Save Winter?',\n",
       "   'Viewing the Northern Lights: ‘It’s Almost Like Heavenly Visual Music’',\n",
       "   'Corrections: February 13, 2019']],\n",
       " ['Bolivia',\n",
       "  '201903',\n",
       "  9,\n",
       "  ['Adventurous. Alone. Attacked.',\n",
       "   'Miriam Toews’s Mennonite Conscience',\n",
       "   'Cody Weddle, a U.S. Journalist, Is Arrested in Venezuela and Will Be Deported',\n",
       "   'Until Honeymoon We Do Part',\n",
       "   'Traveling the World, While Looking Over Her Shoulder',\n",
       "   'Latin America Claims to Love Its Mothers. Why Does It Abuse Them?',\n",
       "   'Mexican Call for Conquest Apology Ruffles Feathers in Spain. And Mexico.',\n",
       "   'Ardyn, Serving Farm-to-Table Fare, Opens in Greenwich Village',\n",
       "   'In Chile, Homes as Extreme as the Landscape Itself']]]"
      ]
     },
     "execution_count": 17,
     "metadata": {},
     "output_type": "execute_result"
    }
   ],
   "source": [
    "results"
   ]
  },
  {
   "cell_type": "code",
   "execution_count": 19,
   "metadata": {},
   "outputs": [],
   "source": [
    "data_processing_helpers.reset_data_entries('Bolivia')"
   ]
  }
 ],
 "metadata": {
  "kernelspec": {
   "display_name": "Python 3",
   "language": "python",
   "name": "python3"
  },
  "language_info": {
   "codemirror_mode": {
    "name": "ipython",
    "version": 3
   },
   "file_extension": ".py",
   "mimetype": "text/x-python",
   "name": "python",
   "nbconvert_exporter": "python",
   "pygments_lexer": "ipython3",
   "version": "3.8.5"
  }
 },
 "nbformat": 4,
 "nbformat_minor": 4
}
