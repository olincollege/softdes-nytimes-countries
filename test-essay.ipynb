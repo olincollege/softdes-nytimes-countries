{
 "cells": [
  {
   "cell_type": "code",
   "execution_count": 29,
   "metadata": {},
   "outputs": [
    {
     "data": {
      "text/plain": [
       "<Response [404]>"
      ]
     },
     "execution_count": 29,
     "metadata": {},
     "output_type": "execute_result"
    }
   ],
   "source": [
    "import requests\n",
    "import json\n",
    "import pyjq\n",
    "from data_processing_helpers import request_articles, get_hits\n",
    "\n",
    "api_key_lila = \"ik8zllqx40ZuMDMG0Ph0JrRvy30QssJ4\"\n",
    "\n",
    "keyword = \"romney\"\n",
    "begin_date = \"20120101\"\n",
    "end_date = \"20120101\"\n",
    "\n",
    "#does not work\n",
    "request_articles(keyword, begin_date, end_date, api_key_lila)\n",
    "\n",
    "#works??? why does the other work then?\n",
    "#requests.get(f\"https://api.nytimes.com/svc/search/v2/articlesearch.json?fq={keyword}&begin_date={begin_date}&end_date={end_date}&api-key={api_key_lila}\")\n",
    "\n",
    "#works\n",
    "#get_hits(requests.get(f\"https://api.nytimes.com/svc/search/v2/articlesearch.json?fq={keyword}&begin_date={begin_date}&end_date={end_date}&api-key={api_key_lila}\"))\n",
    "\n",
    "#with open(\"data/temp.txt\",\"w\") as f:\n",
    "#    f.write(str(pyjq.all(\".meta .hits\", r.json())))\n",
    "#pyjq.all(\".response .meta .hits\", r.json())\n",
    "\n",
    "\n",
    "\n"
   ]
  }
 ],
 "metadata": {
  "kernelspec": {
   "display_name": "Python 3",
   "language": "python",
   "name": "python3"
  },
  "language_info": {
   "codemirror_mode": {
    "name": "ipython",
    "version": 3
   },
   "file_extension": ".py",
   "mimetype": "text/x-python",
   "name": "python",
   "nbconvert_exporter": "python",
   "pygments_lexer": "ipython3",
   "version": "3.8.5"
  }
 },
 "nbformat": 4,
 "nbformat_minor": 4
}
