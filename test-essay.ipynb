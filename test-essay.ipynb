{
 "cells": [
  {
   "cell_type": "code",
   "execution_count": 11,
   "metadata": {},
   "outputs": [
    {
     "name": "stdout",
     "output_type": "stream",
     "text": [
      "The autoreload extension is already loaded. To reload it, use:\n",
      "  %reload_ext autoreload\n"
     ]
    }
   ],
   "source": [
    "%load_ext autoreload\n",
    "%autoreload 2"
   ]
  },
  {
   "cell_type": "code",
   "execution_count": 30,
   "metadata": {},
   "outputs": [
    {
     "data": {
      "text/plain": [
       "[['senate', '201302', 8782],\n",
       " ['senate', '201303', 8409],\n",
       " ['senate', '201304', 7966],\n",
       " ['senate', '201305', 7510],\n",
       " ['senate', '201306', 7076],\n",
       " ['senate', '201307', 6654],\n",
       " ['senate', '201308', 6302],\n",
       " ['senate', '201309', 6044],\n",
       " ['senate', '201310', 5703],\n",
       " ['senate', '201311', 5266],\n",
       " ['senate', '201312', None],\n",
       " ['senate', '201401', None],\n",
       " ['senate', '201402', None],\n",
       " ['senate', '201403', None],\n",
       " ['senate', '201404', None],\n",
       " ['senate', '201405', None],\n",
       " ['senate', '201406', None],\n",
       " ['senate', '201407', None],\n",
       " ['senate', '201408', None],\n",
       " ['senate', '201409', None],\n",
       " ['senate', '201410', None],\n",
       " ['senate', '201411', None],\n",
       " ['senate', '201412', None],\n",
       " ['senate', '201501', None]]"
      ]
     },
     "execution_count": 30,
     "metadata": {},
     "output_type": "execute_result"
    }
   ],
   "source": [
    "import requests\n",
    "import json\n",
    "import pyjq\n",
    "from data_processing_helpers import request_articles, get_hits, monthly_hits\n",
    "\n",
    "api_key_lila = \"ik8zllqx40ZuMDMG0Ph0JrRvy30QssJ4\"\n",
    "\n",
    "keyword = \"senate\"\n",
    "#YYYYMMDD\n",
    "begin_date = \"20100101\"\n",
    "end_date = \"20140101\"\n",
    "\n",
    "#YYYYMM\n",
    "begin_month = \"201302\"\n",
    "end_month = \"201501\"\n",
    "\n",
    "#only returns first 10 even though each one is a separate api call\n",
    "monthly_hits(keyword, begin_month, end_month, api_key_lila)\n",
    "\n",
    "\n"
   ]
  }
 ],
 "metadata": {
  "kernelspec": {
   "display_name": "Python 3",
   "language": "python",
   "name": "python3"
  },
  "language_info": {
   "codemirror_mode": {
    "name": "ipython",
    "version": 3
   },
   "file_extension": ".py",
   "mimetype": "text/x-python",
   "name": "python",
   "nbconvert_exporter": "python",
   "pygments_lexer": "ipython3",
   "version": "3.8.5"
  }
 },
 "nbformat": 4,
 "nbformat_minor": 4
}
